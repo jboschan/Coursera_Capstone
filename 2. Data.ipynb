{
    "cells": [
        {
            "cell_type": "markdown",
            "metadata": {
                "collapsed": true
            },
            "source": "# Coursera IBM Data Science Capstone Project\n## Week 2 Assignment, Part 2\n### By Jamie B"
        },
        {
            "cell_type": "markdown",
            "metadata": {},
            "source": "# 2. Data"
        },
        {
            "cell_type": "markdown",
            "metadata": {},
            "source": "PennDOT, the Pennsylvania Department of Transportation, collects vehicle crash data from every county in Pennsylvania every year. This crash data is published, shared with the national Department of Transporation, and can be used by the state and local governments to make new laws to improve safety or by car insurance companies to revise their underwriting tables for insurance. In this report, I will focus on vehicle crash data from Philadelphia County, in the year 2018. The data was downloaded from the PennDot Crash Download Map (https://pennshare.maps.arcgis.com/apps/webappviewer/index.html?id=8fdbf046e36e41649bbfd9d7dd7c7e7e), then uploaded into IBM Cloud Storage for this project."
        },
        {
            "cell_type": "markdown",
            "metadata": {},
            "source": "The PennDot download contained eight (8) .csv files for different tables:\n- COMMVEH_2018_Philadelphia.csv\n- CRASH_2018_Philadelphia.csv\n- CYCLE_2018_Philadelphia.csv\n- FLAG_2018_Philadelphia.csv\n- PERSON_2018_Philadelpia.csv\n- ROADWAY_2018_Philadelphia.csv\n- TRAILVEH_2018_Philadelphia.csv\n- VEHICLE_2018_Philadelphia.csv\n\nThese files break up the data into different tables, using a CRN column (Crash Record Number) to link them. The full data dictionary for the PA crash data can be found here: http://pennshare.maps.arcgis.com/sharing/rest/content/items/ffe20c6c3c594389b275c6772a281bcd/data\n\nFor this project, the focus will be the Crash_2018_Philadelphia.csv file, which contains the core information on every crash. "
        },
        {
            "cell_type": "code",
            "execution_count": 1,
            "metadata": {},
            "outputs": [
                {
                    "data": {
                        "text/html": "<div>\n<style scoped>\n    .dataframe tbody tr th:only-of-type {\n        vertical-align: middle;\n    }\n\n    .dataframe tbody tr th {\n        vertical-align: top;\n    }\n\n    .dataframe thead th {\n        text-align: right;\n    }\n</style>\n<table border=\"1\" class=\"dataframe\">\n  <thead>\n    <tr style=\"text-align: right;\">\n      <th></th>\n      <th>CRN</th>\n      <th>DISTRICT</th>\n      <th>COUNTY</th>\n      <th>MUNICIPALITY</th>\n      <th>POLICE_AGCY</th>\n      <th>CRASH_YEAR</th>\n      <th>CRASH_MONTH</th>\n      <th>DAY_OF_WEEK</th>\n      <th>TIME_OF_DAY</th>\n      <th>HOUR_OF_DAY</th>\n      <th>...</th>\n      <th>PED_DEATH_COUNT</th>\n      <th>PED_MAJ_INJ_COUNT</th>\n      <th>MAX_SEVERITY_LEVEL</th>\n      <th>COMM_VEH_COUNT</th>\n      <th>DEC_LAT</th>\n      <th>DEC_LONG</th>\n      <th>RDWY_SURF_TYPE_CD</th>\n      <th>COUNTY_NAME</th>\n      <th>MUNICIPALITY_NAME</th>\n      <th>COUNTY_YEAR</th>\n    </tr>\n  </thead>\n  <tbody>\n    <tr>\n      <th>0</th>\n      <td>2018001306</td>\n      <td>6</td>\n      <td>67</td>\n      <td>67301</td>\n      <td>67505</td>\n      <td>2018</td>\n      <td>1</td>\n      <td>3</td>\n      <td>953</td>\n      <td>9</td>\n      <td>...</td>\n      <td>0</td>\n      <td>0</td>\n      <td>4</td>\n      <td>0</td>\n      <td>39.9857</td>\n      <td>-75.1519</td>\n      <td>NaN</td>\n      <td>Philadelphia</td>\n      <td>Philadelphia City</td>\n      <td>CRASH_2018_Philadelphia</td>\n    </tr>\n    <tr>\n      <th>1</th>\n      <td>2018006142</td>\n      <td>6</td>\n      <td>67</td>\n      <td>67301</td>\n      <td>68K01</td>\n      <td>2018</td>\n      <td>1</td>\n      <td>5</td>\n      <td>934</td>\n      <td>9</td>\n      <td>...</td>\n      <td>0</td>\n      <td>0</td>\n      <td>3</td>\n      <td>0</td>\n      <td>39.9946</td>\n      <td>-75.0841</td>\n      <td>NaN</td>\n      <td>Philadelphia</td>\n      <td>Philadelphia City</td>\n      <td>CRASH_2018_Philadelphia</td>\n    </tr>\n    <tr>\n      <th>2</th>\n      <td>2018004176</td>\n      <td>6</td>\n      <td>67</td>\n      <td>67301</td>\n      <td>68K01</td>\n      <td>2018</td>\n      <td>1</td>\n      <td>1</td>\n      <td>1734</td>\n      <td>17</td>\n      <td>...</td>\n      <td>0</td>\n      <td>0</td>\n      <td>0</td>\n      <td>0</td>\n      <td>40.0402</td>\n      <td>-75.0058</td>\n      <td>NaN</td>\n      <td>Philadelphia</td>\n      <td>Philadelphia City</td>\n      <td>CRASH_2018_Philadelphia</td>\n    </tr>\n    <tr>\n      <th>3</th>\n      <td>2018005229</td>\n      <td>6</td>\n      <td>67</td>\n      <td>67301</td>\n      <td>68K01</td>\n      <td>2018</td>\n      <td>1</td>\n      <td>2</td>\n      <td>358</td>\n      <td>3</td>\n      <td>...</td>\n      <td>0</td>\n      <td>0</td>\n      <td>0</td>\n      <td>0</td>\n      <td>39.9599</td>\n      <td>-75.1793</td>\n      <td>NaN</td>\n      <td>Philadelphia</td>\n      <td>Philadelphia City</td>\n      <td>CRASH_2018_Philadelphia</td>\n    </tr>\n    <tr>\n      <th>4</th>\n      <td>2018002147</td>\n      <td>6</td>\n      <td>67</td>\n      <td>67301</td>\n      <td>67505</td>\n      <td>2018</td>\n      <td>1</td>\n      <td>5</td>\n      <td>2151</td>\n      <td>21</td>\n      <td>...</td>\n      <td>0</td>\n      <td>0</td>\n      <td>0</td>\n      <td>0</td>\n      <td>39.9805</td>\n      <td>-75.1600</td>\n      <td>NaN</td>\n      <td>Philadelphia</td>\n      <td>Philadelphia City</td>\n      <td>CRASH_2018_Philadelphia</td>\n    </tr>\n  </tbody>\n</table>\n<p>5 rows \u00d7 91 columns</p>\n</div>",
                        "text/plain": "          CRN  DISTRICT  COUNTY  MUNICIPALITY POLICE_AGCY  CRASH_YEAR  \\\n0  2018001306         6      67         67301       67505        2018   \n1  2018006142         6      67         67301       68K01        2018   \n2  2018004176         6      67         67301       68K01        2018   \n3  2018005229         6      67         67301       68K01        2018   \n4  2018002147         6      67         67301       67505        2018   \n\n   CRASH_MONTH  DAY_OF_WEEK  TIME_OF_DAY  HOUR_OF_DAY  ...  PED_DEATH_COUNT  \\\n0            1            3          953            9  ...                0   \n1            1            5          934            9  ...                0   \n2            1            1         1734           17  ...                0   \n3            1            2          358            3  ...                0   \n4            1            5         2151           21  ...                0   \n\n   PED_MAJ_INJ_COUNT  MAX_SEVERITY_LEVEL  COMM_VEH_COUNT  DEC_LAT  DEC_LONG  \\\n0                  0                   4               0  39.9857  -75.1519   \n1                  0                   3               0  39.9946  -75.0841   \n2                  0                   0               0  40.0402  -75.0058   \n3                  0                   0               0  39.9599  -75.1793   \n4                  0                   0               0  39.9805  -75.1600   \n\n   RDWY_SURF_TYPE_CD   COUNTY_NAME  MUNICIPALITY_NAME              COUNTY_YEAR  \n0                NaN  Philadelphia  Philadelphia City  CRASH_2018_Philadelphia  \n1                NaN  Philadelphia  Philadelphia City  CRASH_2018_Philadelphia  \n2                NaN  Philadelphia  Philadelphia City  CRASH_2018_Philadelphia  \n3                NaN  Philadelphia  Philadelphia City  CRASH_2018_Philadelphia  \n4                NaN  Philadelphia  Philadelphia City  CRASH_2018_Philadelphia  \n\n[5 rows x 91 columns]"
                    },
                    "execution_count": 1,
                    "metadata": {},
                    "output_type": "execute_result"
                }
            ],
            "source": "# The code was removed by Watson Studio for sharing."
        },
        {
            "cell_type": "code",
            "execution_count": null,
            "metadata": {},
            "outputs": [],
            "source": ""
        }
    ],
    "metadata": {
        "kernelspec": {
            "display_name": "Python 3.6",
            "language": "python",
            "name": "python3"
        },
        "language_info": {
            "codemirror_mode": {
                "name": "ipython",
                "version": 3
            },
            "file_extension": ".py",
            "mimetype": "text/x-python",
            "name": "python",
            "nbconvert_exporter": "python",
            "pygments_lexer": "ipython3",
            "version": "3.6.9"
        }
    },
    "nbformat": 4,
    "nbformat_minor": 1
}