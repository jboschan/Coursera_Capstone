{
    "cells": [
        {
            "cell_type": "markdown",
            "metadata": {
                "collapsed": true
            },
            "source": "# Coursera IBM Data Science Capstone Project\n\n# Week 2 Assignment\n\n## By Jamie B"
        },
        {
            "cell_type": "markdown",
            "metadata": {},
            "source": "# 1. Introduction/Business Problem"
        },
        {
            "cell_type": "markdown",
            "metadata": {},
            "source": "Historically, car insurance companies have charged higher premiums to young and senior drivers based on statistical propensity to get into crashes. In order to continue to accurately underwrite car insurance policies, insurance companies need to know if it is still true that age and gender affect the likelihood of a driver getting into crashes that injure or kill people. In this project, I will analyze annual vehicle crash data from Philadelphia, PA in 2018 to see if the historical patterns still hold, and therefore, current underwriting practices are still appropriate. My hypothesis is that it is still true that younger drivers (under 20) and older drivers (over 75) get into more crashes that cause injuries or deaths."
        },
        {
            "cell_type": "code",
            "execution_count": null,
            "metadata": {},
            "outputs": [],
            "source": ""
        }
    ],
    "metadata": {
        "kernelspec": {
            "display_name": "Python 3.6",
            "language": "python",
            "name": "python3"
        },
        "language_info": {
            "codemirror_mode": {
                "name": "ipython",
                "version": 3
            },
            "file_extension": ".py",
            "mimetype": "text/x-python",
            "name": "python",
            "nbconvert_exporter": "python",
            "pygments_lexer": "ipython3",
            "version": "3.6.9"
        }
    },
    "nbformat": 4,
    "nbformat_minor": 1
}